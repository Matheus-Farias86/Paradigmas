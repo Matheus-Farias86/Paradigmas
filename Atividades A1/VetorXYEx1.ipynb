{
  "nbformat": 4,
  "nbformat_minor": 0,
  "metadata": {
    "colab": {
      "provenance": []
    },
    "kernelspec": {
      "name": "python3",
      "display_name": "Python 3"
    },
    "language_info": {
      "name": "python"
    }
  },
  "cells": [
    {
      "cell_type": "markdown",
      "source": [
        "**Exercício de vetores**\n",
        "1. Ler o vetor de 8 posições e, em seguida, lê dois valores X e Y quaisquer correspondentes a duas posições no vetor.<br>\n",
        "2. O programa então imprime a soma dos valores encontrados nas respectivas posições X e Y."
      ],
      "metadata": {
        "id": "gP4ZpU4yueyC"
      }
    },
    {
      "cell_type": "code",
      "source": [
        "def declaraVetor():\n",
        "    return [0] * 8"
      ],
      "metadata": {
        "id": "eNIhNkuAz7P-"
      },
      "execution_count": null,
      "outputs": []
    },
    {
      "cell_type": "code",
      "source": [
        "def lerValores(i):\n",
        "    return int(input(f\"Digite o valor para a posição {i}: \"))"
      ],
      "metadata": {
        "id": "BT9Ii9_gxIu6"
      },
      "execution_count": null,
      "outputs": []
    },
    {
      "cell_type": "code",
      "source": [
        "def lerPosicoes(pos):\n",
        "    return int(input(f\"Digite a posição {pos}: \"))"
      ],
      "metadata": {
        "id": "phRQBhLixfS1"
      },
      "execution_count": null,
      "outputs": []
    },
    {
      "cell_type": "code",
      "source": [
        "def calcularSoma(vetor, x, y):\n",
        "    return vetor[x] + vetor[y]"
      ],
      "metadata": {
        "id": "-rCfca6axm01"
      },
      "execution_count": null,
      "outputs": []
    },
    {
      "cell_type": "code",
      "source": [
        "def imprimirResultado(soma):\n",
        "  print(f\"A soma dos valores nas posições {x} e {y} é: {soma}\")"
      ],
      "metadata": {
        "id": "_qSgbHeYxsSm"
      },
      "execution_count": null,
      "outputs": []
    },
    {
      "cell_type": "code",
      "source": [
        "def main():\n",
        "    # Declara um vetor de 8 posições\n",
        "    vetor = declaraVetor()\n",
        "\n",
        "    # Lê os valores do vetor\n",
        "    for i in range(8):\n",
        "        vetor[i] = lerValores(i)\n",
        "\n",
        "    # Lê os números das posições X e Y\n",
        "    x = lerPosicoes('X')\n",
        "    y = lerPosicoes('Y')\n",
        "\n",
        "    # Calcula a soma dos valores das posições escolhidas\n",
        "    soma = calcularSoma(vetor, x, y)\n",
        "\n",
        "    # Imprime resultado\n",
        "    imprimirResultado(soma)\n",
        "\n",
        "if __name__ == \"__main__\":\n",
        "    main()"
      ],
      "metadata": {
        "colab": {
          "base_uri": "https://localhost:8080/"
        },
        "id": "MnfDvv9KzymG",
        "outputId": "d803ee60-c12b-4096-a098-231483534dcc"
      },
      "execution_count": null,
      "outputs": [
        {
          "output_type": "stream",
          "name": "stdout",
          "text": [
            "Digite o valor para a posição 0: 1\n",
            "Digite o valor para a posição 1: 2\n",
            "Digite o valor para a posição 2: 3\n",
            "Digite o valor para a posição 3: 4\n",
            "Digite o valor para a posição 4: 5\n",
            "Digite o valor para a posição 5: 6\n",
            "Digite o valor para a posição 6: 7\n",
            "Digite o valor para a posição 7: 8\n",
            "Digite a posição X: 0\n",
            "Digite a posição Y: 7\n",
            "A soma dos valores nas posições 2 e 4 é: 9\n"
          ]
        }
      ]
    },
    {
      "cell_type": "code",
      "execution_count": null,
      "metadata": {
        "colab": {
          "base_uri": "https://localhost:8080/"
        },
        "id": "7ZRl_QJ0tZ0v",
        "outputId": "182fecc6-7126-41f6-a834-15ee9503347c"
      },
      "outputs": [
        {
          "output_type": "stream",
          "name": "stdout",
          "text": [
            "Digite o valor para a posição 0: 1\n",
            "Digite o valor para a posição 1: 2\n",
            "Digite o valor para a posição 2: 3\n",
            "Digite o valor para a posição 3: 4\n",
            "Digite o valor para a posição 4: 5\n",
            "Digite o valor para a posição 5: 6\n",
            "Digite o valor para a posição 6: 7\n",
            "Digite o valor para a posição 7: 8\n",
            "Digite o número da posição X: 0\n",
            "Digite o número da posição Y: 7\n",
            "A soma dos valores nas posições 0 e 7 é: 9\n"
          ]
        }
      ],
      "source": [
        "def main():\n",
        "    # Declara um vetor de 8 posições\n",
        "    vetor = [0] * 8\n",
        "\n",
        "    # Lê os valores do vetor\n",
        "    for i in range(8):\n",
        "        vetor[i] = int(input(f\"Digite o valor para a posição {i}: \"))\n",
        "\n",
        "    # Lê os números das posições X e Y\n",
        "    x = int(input(\"Digite o número da posição X: \"))\n",
        "    y = int(input(\"Digite o número da posição Y: \"))\n",
        "\n",
        "    # Calcula a soma dos valores das posições escolhidas\n",
        "    soma = vetor[x] + vetor[y]\n",
        "\n",
        "    # Imprime resultado\n",
        "    print(f\"A soma dos valores nas posições {x} e {y} é: {soma}\")\n",
        "\n",
        "main()"
      ]
    }
  ]
}